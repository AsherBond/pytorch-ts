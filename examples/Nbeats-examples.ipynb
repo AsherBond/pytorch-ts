{
 "cells": [
  {
   "cell_type": "code",
   "execution_count": 1,
   "id": "db11790d",
   "metadata": {},
   "outputs": [],
   "source": [
    "import numpy as np\n",
    "import json\n",
    "import matplotlib.pyplot as plt\n",
    "\n",
    "from gluonts.dataset.artificial import recipe as rcp\n",
    "\n",
    "from gluonts.dataset.artificial import RecipeDataset\n",
    "from gluonts.dataset.common import ListDataset, MetaData\n",
    "\n",
    "from gluonts.evaluation import make_evaluation_predictions, Evaluator\n",
    "\n",
    "from pts.model.n_beats import NBEATSEstimator\n",
    "from pts.model.n_beats.n_beats_X_estimator import NbeatsXEstimator\n",
    "\n",
    "from pts import Trainer"
   ]
  },
  {
   "cell_type": "code",
   "execution_count": 2,
   "id": "7df1c4b8",
   "metadata": {},
   "outputs": [],
   "source": [
    "NUM_EPOCHS = 30\n",
    "NUM_BATCHES_PER_EPOCH = 16\n",
    "NUM_SAMPLES = 10\n",
    "BATCH_SIZE = 32 * 2\n",
    "LEARNING_RATE = 5e-3\n",
    "\n",
    "\n",
    "TIME_SERIE_LENGTH = 4 * 12 \n",
    "PREDICTION_LENGTH = 4 \n",
    "NUMBER_OF_TIME_SERIES = NUM_BATCHES_PER_EPOCH * BATCH_SIZE \n",
    "\n",
    "META_DATA = MetaData(freq=\"W\", prediction_length=PREDICTION_LENGTH)"
   ]
  },
  {
   "cell_type": "code",
   "execution_count": 3,
   "id": "8e329613",
   "metadata": {},
   "outputs": [
    {
     "data": {
      "image/png": "[encoded data removed]",
      "text/plain": [
       "<Figure size 432x288 with 1 Axes>"
      ]
     },
     "metadata": {
      "needs_background": "light"
     },
     "output_type": "display_data"
    },
    {
     "data": {
      "image/png": "[encoded data removed]",
      "text/plain": [
       "<Figure size 432x288 with 1 Axes>"
      ]
     },
     "metadata": {
      "needs_background": "light"
     },
     "output_type": "display_data"
    }
   ],
   "source": [
    "class SimpleDiscount(rcp.Lifted):\n",
    "    def __call__(self, x, length, *args, **kwargs):\n",
    "        return np.random.uniform(0, 0.7, size=length)  \n",
    "\n",
    "class SimpleTarget(rcp.Lifted):\n",
    "\n",
    "    def __call__(self, x, length, *args, **kwargs):\n",
    "        trend = np.arange(length)  \n",
    "        season = np.asarray([np.cos(2 * np.pi * i * 1/4) for i in range(length)])\n",
    "        return 0.2 * trend + .3 * season\n",
    "\n",
    "    \n",
    "class SimpleElasticTarget(rcp.Lifted):\n",
    "\n",
    "    def __call__(self, x, length, *args, **kwargs):\n",
    "        trend = np.arange(length)  \n",
    "        season = np.asarray([np.cos(2 * np.pi * i * 1/4) for i in range(length)])\n",
    "        return 0.2 * trend + .3 * season + 2. * x\n",
    "    \n",
    "discounts = SimpleDiscount()(x=None, length=TIME_SERIE_LENGTH)  \n",
    "    \n",
    "plt.figure()\n",
    "plt.plot(SimpleTarget()(x=None, length=TIME_SERIE_LENGTH))\n",
    "plt.show()\n",
    "\n",
    "plt.figure()\n",
    "plt.plot(SimpleElasticTarget()(x=discounts, length=TIME_SERIE_LENGTH))\n",
    "plt.show()\n"
   ]
  },
  {
   "cell_type": "code",
   "execution_count": 4,
   "id": "2610ec01",
   "metadata": {},
   "outputs": [],
   "source": [
    "list_for_dataset = []\n",
    "for _ in range(NUMBER_OF_TIME_SERIES):\n",
    "    discounts = SimpleDiscount()(x=None, length=TIME_SERIE_LENGTH)\n",
    "    sales = SimpleTarget()(x=None, length=TIME_SERIE_LENGTH)  \n",
    "    list_for_dataset.append({\n",
    "        \"feat_dynamic_real\": [discounts], \n",
    "        \"target\": sales, \n",
    "        \"start\": \"2019-01-07 00:00\"}\n",
    "    )\n",
    "\n",
    "simple_dataset = ListDataset(list_for_dataset, freq=META_DATA.freq)"
   ]
  },
  {
   "cell_type": "code",
   "execution_count": 5,
   "id": "dbc40a58",
   "metadata": {},
   "outputs": [],
   "source": [
    "list_for_dataset = []\n",
    "for _ in range(NUMBER_OF_TIME_SERIES):\n",
    "    discounts = SimpleDiscount()(x=None, length=TIME_SERIE_LENGTH)\n",
    "    sales = SimpleElasticTarget()(x=discounts, length=TIME_SERIE_LENGTH)\n",
    "    \n",
    "    list_for_dataset.append({\n",
    "        \"feat_dynamic_real\": [discounts], \n",
    "        \"target\": sales, \n",
    "        \"start\": \"2019-01-07 00:00\"}\n",
    "    )\n",
    "\n",
    "elastic_dataset = ListDataset(list_for_dataset, freq=META_DATA.freq)"
   ]
  },
  {
   "cell_type": "code",
   "execution_count": 6,
   "id": "30c95381",
   "metadata": {},
   "outputs": [],
   "source": [
    "def train_nbeats(estimator, dataset):\n",
    "    predictor = estimator.train(dataset)\n",
    "    forecast_it, ts_it = make_evaluation_predictions(\n",
    "        dataset=dataset,  # test dataset\n",
    "        predictor=predictor,  # predictor\n",
    "        num_samples=NUM_SAMPLES,  # number of sample paths we want for evaluation\n",
    "    )\n",
    "    forecasts = list(forecast_it)\n",
    "    tss = list(ts_it)\n",
    "    evaluator = Evaluator()\n",
    "    agg_metrics, item_metrics = evaluator(iter(tss), iter(forecasts), num_series=len(dataset))\n",
    "    return agg_metrics[\"NRMSE\"]\n"
   ]
  },
  {
   "cell_type": "code",
   "execution_count": 7,
   "id": "25c275fe",
   "metadata": {},
   "outputs": [],
   "source": [
    "nbeats_estimator = NBEATSEstimator(\n",
    "    freq=META_DATA.freq,\n",
    "    prediction_length=META_DATA.prediction_length,\n",
    "    context_length=META_DATA.prediction_length * 3,\n",
    "    trainer=Trainer(device=\"cpu\",\n",
    "                    epochs=NUM_EPOCHS,\n",
    "                    learning_rate=LEARNING_RATE,\n",
    "                    num_batches_per_epoch=NUM_BATCHES_PER_EPOCH,\n",
    "                    batch_size=BATCH_SIZE,\n",
    "                    ),\n",
    "    num_stacks=30,\n",
    "    num_blocks=[1],\n",
    "    num_block_layers=[4],\n",
    "    stack_types=[\"G\"],\n",
    "    widths=[512],\n",
    "    sharing=[False],\n",
    "    expansion_coefficient_lengths=[32]\n",
    ")"
   ]
  },
  {
   "cell_type": "code",
   "execution_count": 9,
   "id": "227fda71",
   "metadata": {},
   "outputs": [],
   "source": [
    "nbeats_X_estimator = NbeatsXEstimator(\n",
    "    freq=META_DATA.freq,\n",
    "    prediction_length=META_DATA.prediction_length,\n",
    "    context_length=META_DATA.prediction_length * 3,\n",
    "    trainer=Trainer(device=\"cpu\",\n",
    "                    epochs=NUM_EPOCHS,\n",
    "                    learning_rate=LEARNING_RATE,\n",
    "                    num_batches_per_epoch=NUM_BATCHES_PER_EPOCH,\n",
    "                    batch_size=BATCH_SIZE,\n",
    "                    ),\n",
    "    num_stacks=30,\n",
    "    num_blocks=[1],\n",
    "    num_block_layers=[4],\n",
    "    stack_types=[\"G\"],\n",
    "    widths=[512],\n",
    "    sharing=[False],\n",
    "    expansion_coefficient_lengths=[32],\n",
    "    num_feat_dynamic_real=1,\n",
    ")"
   ]
  },
  {
   "cell_type": "markdown",
   "id": "bb125a0a",
   "metadata": {},
   "source": [
    "## Nbeats X"
   ]
  },
  {
   "cell_type": "code",
   "execution_count": 10,
   "id": "a5b1d03b",
   "metadata": {
    "scrolled": true
   },
   "outputs": [
    {
     "data": {
      "application/vnd.jupyter.widget-view+json": {
       "model_id": "927092fbc4be46da851acb70d88e0d32",
       "version_major": 2,
       "version_minor": 0
      },
      "text/plain": [
       "  0%|          | 0/15 [00:00<?, ?it/s]"
      ]
     },
     "metadata": {},
     "output_type": "display_data"
    },
    {
     "name": "stderr",
     "output_type": "stream",
     "text": [
      "/home/kashif/.env/pytorch/lib/python3.8/site-packages/gluonts/dataset/common.py:323: FutureWarning: The 'freq' argument in Timestamp is deprecated and will be removed in a future version.\n",
      "  timestamp = pd.Timestamp(string, freq=freq)\n",
      "/home/kashif/.env/pytorch/lib/python3.8/site-packages/gluonts/dataset/common.py:326: FutureWarning: Timestamp.freq is deprecated and will be removed in a future version\n",
      "  if isinstance(timestamp.freq, Tick):\n",
      "/home/kashif/.env/pytorch/lib/python3.8/site-packages/gluonts/dataset/common.py:337: FutureWarning: Timestamp.freq is deprecated and will be removed in a future version\n",
      "  return timestamp.freq.rollforward(timestamp)\n",
      "/home/kashif/.env/pytorch/lib/python3.8/site-packages/gluonts/transform/split.py:36: FutureWarning: Timestamp.freq is deprecated and will be removed in a future version\n",
      "  return _shift_timestamp_helper(ts, ts.freq, offset)\n"
     ]
    },
    {
     "data": {
      "application/vnd.jupyter.widget-view+json": {
       "model_id": "16c989f15de449228885ae7d6b7a1092",
       "version_major": 2,
       "version_minor": 0
      },
      "text/plain": [
       "  0%|          | 0/15 [00:00<?, ?it/s]"
      ]
     },
     "metadata": {},
     "output_type": "display_data"
    },
    {
     "data": {
      "application/vnd.jupyter.widget-view+json": {
       "model_id": "3abe6521b32f42ab961e592bf3ea50a2",
       "version_major": 2,
       "version_minor": 0
      },
      "text/plain": [
       "  0%|          | 0/15 [00:00<?, ?it/s]"
      ]
     },
     "metadata": {},
     "output_type": "display_data"
    },
    {
     "data": {
      "application/vnd.jupyter.widget-view+json": {
       "model_id": "9e4fd4affa3b4db0ad6b1f092e705656",
       "version_major": 2,
       "version_minor": 0
      },
      "text/plain": [
       "  0%|          | 0/15 [00:00<?, ?it/s]"
      ]
     },
     "metadata": {},
     "output_type": "display_data"
    },
    {
     "data": {
      "application/vnd.jupyter.widget-view+json": {
       "model_id": "e6a9a58416a24fefb8dd7e8a1c3eb860",
       "version_major": 2,
       "version_minor": 0
      },
      "text/plain": [
       "  0%|          | 0/15 [00:00<?, ?it/s]"
      ]
     },
     "metadata": {},
     "output_type": "display_data"
    },
    {
     "data": {
      "application/vnd.jupyter.widget-view+json": {
       "model_id": "0ba5c427825345519eded504e75f6152",
       "version_major": 2,
       "version_minor": 0
      },
      "text/plain": [
       "  0%|          | 0/15 [00:00<?, ?it/s]"
      ]
     },
     "metadata": {},
     "output_type": "display_data"
    },
    {
     "data": {
      "application/vnd.jupyter.widget-view+json": {
       "model_id": "3761e1907e444f4e9a1982957dfa07fa",
       "version_major": 2,
       "version_minor": 0
      },
      "text/plain": [
       "  0%|          | 0/15 [00:00<?, ?it/s]"
      ]
     },
     "metadata": {},
     "output_type": "display_data"
    },
    {
     "data": {
      "application/vnd.jupyter.widget-view+json": {
       "model_id": "5ea63d5b96d44413bf5b89da3b4bbd1e",
       "version_major": 2,
       "version_minor": 0
      },
      "text/plain": [
       "  0%|          | 0/15 [00:00<?, ?it/s]"
      ]
     },
     "metadata": {},
     "output_type": "display_data"
    },
    {
     "data": {
      "application/vnd.jupyter.widget-view+json": {
       "model_id": "1f798ee341a14f91a1fca298537524d8",
       "version_major": 2,
       "version_minor": 0
      },
      "text/plain": [
       "  0%|          | 0/15 [00:00<?, ?it/s]"
      ]
     },
     "metadata": {},
     "output_type": "display_data"
    },
    {
     "data": {
      "application/vnd.jupyter.widget-view+json": {
       "model_id": "47b55aa9237a4a099ef0571940a0da09",
       "version_major": 2,
       "version_minor": 0
      },
      "text/plain": [
       "  0%|          | 0/15 [00:00<?, ?it/s]"
      ]
     },
     "metadata": {},
     "output_type": "display_data"
    },
    {
     "data": {
      "application/vnd.jupyter.widget-view+json": {
       "model_id": "8ebb474ff4be46d1b17f4649a1ae3691",
       "version_major": 2,
       "version_minor": 0
      },
      "text/plain": [
       "  0%|          | 0/15 [00:00<?, ?it/s]"
      ]
     },
     "metadata": {},
     "output_type": "display_data"
    },
    {
     "data": {
      "application/vnd.jupyter.widget-view+json": {
       "model_id": "a56ac60bbb9c4ee09dd903326a024195",
       "version_major": 2,
       "version_minor": 0
      },
      "text/plain": [
       "  0%|          | 0/15 [00:00<?, ?it/s]"
      ]
     },
     "metadata": {},
     "output_type": "display_data"
    },
    {
     "data": {
      "application/vnd.jupyter.widget-view+json": {
       "model_id": "5afdd106632a4b2197645d037289b987",
       "version_major": 2,
       "version_minor": 0
      },
      "text/plain": [
       "  0%|          | 0/15 [00:00<?, ?it/s]"
      ]
     },
     "metadata": {},
     "output_type": "display_data"
    },
    {
     "data": {
      "application/vnd.jupyter.widget-view+json": {
       "model_id": "ade0c5b5f4ba42a5a6c5588fb7733ea3",
       "version_major": 2,
       "version_minor": 0
      },
      "text/plain": [
       "  0%|          | 0/15 [00:00<?, ?it/s]"
      ]
     },
     "metadata": {},
     "output_type": "display_data"
    },
    {
     "data": {
      "application/vnd.jupyter.widget-view+json": {
       "model_id": "8fc1c70cca474315b57f7df671c2f08b",
       "version_major": 2,
       "version_minor": 0
      },
      "text/plain": [
       "  0%|          | 0/15 [00:00<?, ?it/s]"
      ]
     },
     "metadata": {},
     "output_type": "display_data"
    },
    {
     "data": {
      "application/vnd.jupyter.widget-view+json": {
       "model_id": "0d6c5673353d4e299b0abba062e45838",
       "version_major": 2,
       "version_minor": 0
      },
      "text/plain": [
       "  0%|          | 0/15 [00:00<?, ?it/s]"
      ]
     },
     "metadata": {},
     "output_type": "display_data"
    },
    {
     "data": {
      "application/vnd.jupyter.widget-view+json": {
       "model_id": "10763b0ecf554b79bf5a03caa55e7f0a",
       "version_major": 2,
       "version_minor": 0
      },
      "text/plain": [
       "  0%|          | 0/15 [00:00<?, ?it/s]"
      ]
     },
     "metadata": {},
     "output_type": "display_data"
    },
    {
     "data": {
      "application/vnd.jupyter.widget-view+json": {
       "model_id": "c3bdce606a704e66b402311afa7cb65c",
       "version_major": 2,
       "version_minor": 0
      },
      "text/plain": [
       "  0%|          | 0/15 [00:00<?, ?it/s]"
      ]
     },
     "metadata": {},
     "output_type": "display_data"
    },
    {
     "data": {
      "application/vnd.jupyter.widget-view+json": {
       "model_id": "81ea8e6db5cc4dc0b84a41d61c01e5f1",
       "version_major": 2,
       "version_minor": 0
      },
      "text/plain": [
       "  0%|          | 0/15 [00:00<?, ?it/s]"
      ]
     },
     "metadata": {},
     "output_type": "display_data"
    },
    {
     "data": {
      "application/vnd.jupyter.widget-view+json": {
       "model_id": "288eb4e831e746bebf7a4f55171e7ac9",
       "version_major": 2,
       "version_minor": 0
      },
      "text/plain": [
       "  0%|          | 0/15 [00:00<?, ?it/s]"
      ]
     },
     "metadata": {},
     "output_type": "display_data"
    },
    {
     "data": {
      "application/vnd.jupyter.widget-view+json": {
       "model_id": "069d3614c26347d49abe94b52c271758",
       "version_major": 2,
       "version_minor": 0
      },
      "text/plain": [
       "  0%|          | 0/15 [00:00<?, ?it/s]"
      ]
     },
     "metadata": {},
     "output_type": "display_data"
    },
    {
     "data": {
      "application/vnd.jupyter.widget-view+json": {
       "model_id": "cea0b74cc3d94631999c56a6266d8a06",
       "version_major": 2,
       "version_minor": 0
      },
      "text/plain": [
       "  0%|          | 0/15 [00:00<?, ?it/s]"
      ]
     },
     "metadata": {},
     "output_type": "display_data"
    },
    {
     "data": {
      "application/vnd.jupyter.widget-view+json": {
       "model_id": "495c66b318694c549036db42f4f82540",
       "version_major": 2,
       "version_minor": 0
      },
      "text/plain": [
       "  0%|          | 0/15 [00:00<?, ?it/s]"
      ]
     },
     "metadata": {},
     "output_type": "display_data"
    },
    {
     "data": {
      "application/vnd.jupyter.widget-view+json": {
       "model_id": "a831e7324825421b8574bf38b756a392",
       "version_major": 2,
       "version_minor": 0
      },
      "text/plain": [
       "  0%|          | 0/15 [00:00<?, ?it/s]"
      ]
     },
     "metadata": {},
     "output_type": "display_data"
    },
    {
     "data": {
      "application/vnd.jupyter.widget-view+json": {
       "model_id": "d8f72838434a433f85d4d89539ae0883",
       "version_major": 2,
       "version_minor": 0
      },
      "text/plain": [
       "  0%|          | 0/15 [00:00<?, ?it/s]"
      ]
     },
     "metadata": {},
     "output_type": "display_data"
    },
    {
     "data": {
      "application/vnd.jupyter.widget-view+json": {
       "model_id": "5a49419da96244b7a0819cbada6a8773",
       "version_major": 2,
       "version_minor": 0
      },
      "text/plain": [
       "  0%|          | 0/15 [00:00<?, ?it/s]"
      ]
     },
     "metadata": {},
     "output_type": "display_data"
    },
    {
     "data": {
      "application/vnd.jupyter.widget-view+json": {
       "model_id": "f22cc354e9c14e208994085c7cb34f8e",
       "version_major": 2,
       "version_minor": 0
      },
      "text/plain": [
       "  0%|          | 0/15 [00:00<?, ?it/s]"
      ]
     },
     "metadata": {},
     "output_type": "display_data"
    },
    {
     "data": {
      "application/vnd.jupyter.widget-view+json": {
       "model_id": "d6f07fe51ae346fb8d487abfc30fb330",
       "version_major": 2,
       "version_minor": 0
      },
      "text/plain": [
       "  0%|          | 0/15 [00:00<?, ?it/s]"
      ]
     },
     "metadata": {},
     "output_type": "display_data"
    },
    {
     "data": {
      "application/vnd.jupyter.widget-view+json": {
       "model_id": "28d81f8996f14272834299b8f69776c3",
       "version_major": 2,
       "version_minor": 0
      },
      "text/plain": [
       "  0%|          | 0/15 [00:00<?, ?it/s]"
      ]
     },
     "metadata": {},
     "output_type": "display_data"
    },
    {
     "data": {
      "application/vnd.jupyter.widget-view+json": {
       "model_id": "12e5353edb014584b040563b280ad563",
       "version_major": 2,
       "version_minor": 0
      },
      "text/plain": [
       "  0%|          | 0/15 [00:00<?, ?it/s]"
      ]
     },
     "metadata": {},
     "output_type": "display_data"
    },
    {
     "name": "stderr",
     "output_type": "stream",
     "text": [
      "Running evaluation: 100%|█████████████████| 1024/1024 [00:00<00:00, 3468.13it/s]/home/kashif/.env/pytorch/lib/python3.8/site-packages/gluonts/evaluation/_base.py:305: FutureWarning: Timestamp.freq is deprecated and will be removed in a future version\n",
      "  date_before_forecast = forecast.index[0] - forecast.index[0].freq\n",
      "/home/kashif/.env/pytorch/lib/python3.8/site-packages/gluonts/evaluation/_base.py:305: FutureWarning: Timestamp.freq is deprecated and will be removed in a future version\n",
      "  date_before_forecast = forecast.index[0] - forecast.index[0].freq\n",
      "/home/kashif/.env/pytorch/lib/python3.8/site-packages/gluonts/evaluation/_base.py:305: FutureWarning: Timestamp.freq is deprecated and will be removed in a future version\n",
      "  date_before_forecast = forecast.index[0] - forecast.index[0].freq\n",
      "/home/kashif/.env/pytorch/lib/python3.8/site-packages/gluonts/evaluation/_base.py:305: FutureWarning: Timestamp.freq is deprecated and will be removed in a future version\n",
      "  date_before_forecast = forecast.index[0] - forecast.index[0].freq\n",
      "/home/kashif/.env/pytorch/lib/python3.8/site-packages/gluonts/evaluation/_base.py:305: FutureWarning: Timestamp.freq is deprecated and will be removed in a future version\n",
      "  date_before_forecast = forecast.index[0] - forecast.index[0].freq\n",
      "/home/kashif/.env/pytorch/lib/python3.8/site-packages/gluonts/evaluation/_base.py:305: FutureWarning: Timestamp.freq is deprecated and will be removed in a future version\n",
      "  date_before_forecast = forecast.index[0] - forecast.index[0].freq\n",
      "/home/kashif/.env/pytorch/lib/python3.8/site-packages/gluonts/evaluation/_base.py:305: FutureWarning: Timestamp.freq is deprecated and will be removed in a future version\n",
      "  date_before_forecast = forecast.index[0] - forecast.index[0].freq\n",
      "/home/kashif/.env/pytorch/lib/python3.8/site-packages/gluonts/evaluation/_base.py:305: FutureWarning: Timestamp.freq is deprecated and will be removed in a future version\n",
      "  date_before_forecast = forecast.index[0] - forecast.index[0].freq\n",
      "/home/kashif/.env/pytorch/lib/python3.8/site-packages/gluonts/evaluation/_base.py:305: FutureWarning: Timestamp.freq is deprecated and will be removed in a future version\n",
      "  date_before_forecast = forecast.index[0] - forecast.index[0].freq\n",
      "/home/kashif/.env/pytorch/lib/python3.8/site-packages/gluonts/evaluation/_base.py:305: FutureWarning: Timestamp.freq is deprecated and will be removed in a future version\n",
      "  date_before_forecast = forecast.index[0] - forecast.index[0].freq\n",
      "/home/kashif/.env/pytorch/lib/python3.8/site-packages/gluonts/evaluation/_base.py:305: FutureWarning: Timestamp.freq is deprecated and will be removed in a future version\n",
      "  date_before_forecast = forecast.index[0] - forecast.index[0].freq\n",
      "/home/kashif/.env/pytorch/lib/python3.8/site-packages/gluonts/evaluation/_base.py:305: FutureWarning: Timestamp.freq is deprecated and will be removed in a future version\n",
      "  date_before_forecast = forecast.index[0] - forecast.index[0].freq\n",
      "/home/kashif/.env/pytorch/lib/python3.8/site-packages/gluonts/evaluation/_base.py:305: FutureWarning: Timestamp.freq is deprecated and will be removed in a future version\n",
      "  date_before_forecast = forecast.index[0] - forecast.index[0].freq\n",
      "/home/kashif/.env/pytorch/lib/python3.8/site-packages/gluonts/evaluation/_base.py:305: FutureWarning: Timestamp.freq is deprecated and will be removed in a future version\n",
      "  date_before_forecast = forecast.index[0] - forecast.index[0].freq\n",
      "/home/kashif/.env/pytorch/lib/python3.8/site-packages/gluonts/evaluation/_base.py:305: FutureWarning: Timestamp.freq is deprecated and will be removed in a future version\n",
      "  date_before_forecast = forecast.index[0] - forecast.index[0].freq\n",
      "/home/kashif/.env/pytorch/lib/python3.8/site-packages/gluonts/evaluation/_base.py:305: FutureWarning: Timestamp.freq is deprecated and will be removed in a future version\n",
      "  date_before_forecast = forecast.index[0] - forecast.index[0].freq\n",
      "\n"
     ]
    },
    {
     "data": {
      "text/plain": [
       "0.026486842336577977"
      ]
     },
     "execution_count": 10,
     "metadata": {},
     "output_type": "execute_result"
    }
   ],
   "source": [
    "train_nbeats(nbeats_X_estimator, elastic_dataset)"
   ]
  },
  {
   "cell_type": "markdown",
   "id": "7293b505",
   "metadata": {},
   "source": [
    "## Nbeats "
   ]
  },
  {
   "cell_type": "code",
   "execution_count": 10,
   "id": "facd00f2",
   "metadata": {
    "scrolled": true
   },
   "outputs": [
    {
     "data": {
      "application/vnd.jupyter.widget-view+json": {
       "model_id": "39e40724e6cf448d81b39dbec695cb4d",
       "version_major": 2,
       "version_minor": 0
      },
      "text/plain": [
       "  0%|          | 0/15 [00:00<?, ?it/s]"
      ]
     },
     "metadata": {},
     "output_type": "display_data"
    },
    {
     "data": {
      "application/vnd.jupyter.widget-view+json": {
       "model_id": "ca37bb436e034ea0b05a657739b692c2",
       "version_major": 2,
       "version_minor": 0
      },
      "text/plain": [
       "  0%|          | 0/15 [00:00<?, ?it/s]"
      ]
     },
     "metadata": {},
     "output_type": "display_data"
    },
    {
     "data": {
      "application/vnd.jupyter.widget-view+json": {
       "model_id": "146f51893c67411b85541b365b2ef258",
       "version_major": 2,
       "version_minor": 0
      },
      "text/plain": [
       "  0%|          | 0/15 [00:00<?, ?it/s]"
      ]
     },
     "metadata": {},
     "output_type": "display_data"
    },
    {
     "data": {
      "application/vnd.jupyter.widget-view+json": {
       "model_id": "7da3c6391ca44ae8848d238e37659d33",
       "version_major": 2,
       "version_minor": 0
      },
      "text/plain": [
       "  0%|          | 0/15 [00:00<?, ?it/s]"
      ]
     },
     "metadata": {},
     "output_type": "display_data"
    },
    {
     "data": {
      "application/vnd.jupyter.widget-view+json": {
       "model_id": "c4d67923ff944535a8e45f1369ac5d2e",
       "version_major": 2,
       "version_minor": 0
      },
      "text/plain": [
       "  0%|          | 0/15 [00:00<?, ?it/s]"
      ]
     },
     "metadata": {},
     "output_type": "display_data"
    },
    {
     "data": {
      "application/vnd.jupyter.widget-view+json": {
       "model_id": "8f65b586b3be484c9b41308cd910e870",
       "version_major": 2,
       "version_minor": 0
      },
      "text/plain": [
       "  0%|          | 0/15 [00:00<?, ?it/s]"
      ]
     },
     "metadata": {},
     "output_type": "display_data"
    },
    {
     "data": {
      "application/vnd.jupyter.widget-view+json": {
       "model_id": "d46ada898bf446158c9aff38d4b8a12e",
       "version_major": 2,
       "version_minor": 0
      },
      "text/plain": [
       "  0%|          | 0/15 [00:00<?, ?it/s]"
      ]
     },
     "metadata": {},
     "output_type": "display_data"
    },
    {
     "data": {
      "application/vnd.jupyter.widget-view+json": {
       "model_id": "080f17dffef6428d8ba17572762f220c",
       "version_major": 2,
       "version_minor": 0
      },
      "text/plain": [
       "  0%|          | 0/15 [00:00<?, ?it/s]"
      ]
     },
     "metadata": {},
     "output_type": "display_data"
    },
    {
     "data": {
      "application/vnd.jupyter.widget-view+json": {
       "model_id": "947dfad405224b20b31ba2e61369a835",
       "version_major": 2,
       "version_minor": 0
      },
      "text/plain": [
       "  0%|          | 0/15 [00:00<?, ?it/s]"
      ]
     },
     "metadata": {},
     "output_type": "display_data"
    },
    {
     "data": {
      "application/vnd.jupyter.widget-view+json": {
       "model_id": "70ae476746784dbf829d59376b40936a",
       "version_major": 2,
       "version_minor": 0
      },
      "text/plain": [
       "  0%|          | 0/15 [00:00<?, ?it/s]"
      ]
     },
     "metadata": {},
     "output_type": "display_data"
    },
    {
     "data": {
      "application/vnd.jupyter.widget-view+json": {
       "model_id": "d6d12b22e1694c3e84629855d51e6cb4",
       "version_major": 2,
       "version_minor": 0
      },
      "text/plain": [
       "  0%|          | 0/15 [00:00<?, ?it/s]"
      ]
     },
     "metadata": {},
     "output_type": "display_data"
    },
    {
     "data": {
      "application/vnd.jupyter.widget-view+json": {
       "model_id": "c2d1ac8737594023ad9987ef060f3824",
       "version_major": 2,
       "version_minor": 0
      },
      "text/plain": [
       "  0%|          | 0/15 [00:00<?, ?it/s]"
      ]
     },
     "metadata": {},
     "output_type": "display_data"
    },
    {
     "data": {
      "application/vnd.jupyter.widget-view+json": {
       "model_id": "04d588dae0664a528b1c3b964c0a53a9",
       "version_major": 2,
       "version_minor": 0
      },
      "text/plain": [
       "  0%|          | 0/15 [00:00<?, ?it/s]"
      ]
     },
     "metadata": {},
     "output_type": "display_data"
    },
    {
     "data": {
      "application/vnd.jupyter.widget-view+json": {
       "model_id": "f81aaae00b0b4c30a0178108a2566455",
       "version_major": 2,
       "version_minor": 0
      },
      "text/plain": [
       "  0%|          | 0/15 [00:00<?, ?it/s]"
      ]
     },
     "metadata": {},
     "output_type": "display_data"
    },
    {
     "data": {
      "application/vnd.jupyter.widget-view+json": {
       "model_id": "42def7d518d74718b304a5f4970ba842",
       "version_major": 2,
       "version_minor": 0
      },
      "text/plain": [
       "  0%|          | 0/15 [00:00<?, ?it/s]"
      ]
     },
     "metadata": {},
     "output_type": "display_data"
    },
    {
     "data": {
      "application/vnd.jupyter.widget-view+json": {
       "model_id": "3b7ba2558fc84e9397fc84487f13142c",
       "version_major": 2,
       "version_minor": 0
      },
      "text/plain": [
       "  0%|          | 0/15 [00:00<?, ?it/s]"
      ]
     },
     "metadata": {},
     "output_type": "display_data"
    },
    {
     "data": {
      "application/vnd.jupyter.widget-view+json": {
       "model_id": "e108f522613745dba1bbb6ee62cea840",
       "version_major": 2,
       "version_minor": 0
      },
      "text/plain": [
       "  0%|          | 0/15 [00:00<?, ?it/s]"
      ]
     },
     "metadata": {},
     "output_type": "display_data"
    },
    {
     "data": {
      "application/vnd.jupyter.widget-view+json": {
       "model_id": "951b049896f545299f1a904302dae2d0",
       "version_major": 2,
       "version_minor": 0
      },
      "text/plain": [
       "  0%|          | 0/15 [00:00<?, ?it/s]"
      ]
     },
     "metadata": {},
     "output_type": "display_data"
    },
    {
     "data": {
      "application/vnd.jupyter.widget-view+json": {
       "model_id": "01d52c44c7ae441ba046092202b614b6",
       "version_major": 2,
       "version_minor": 0
      },
      "text/plain": [
       "  0%|          | 0/15 [00:00<?, ?it/s]"
      ]
     },
     "metadata": {},
     "output_type": "display_data"
    },
    {
     "data": {
      "application/vnd.jupyter.widget-view+json": {
       "model_id": "b7bc6529cc394982becad5c995f8be7e",
       "version_major": 2,
       "version_minor": 0
      },
      "text/plain": [
       "  0%|          | 0/15 [00:00<?, ?it/s]"
      ]
     },
     "metadata": {},
     "output_type": "display_data"
    },
    {
     "data": {
      "application/vnd.jupyter.widget-view+json": {
       "model_id": "7a588c12250c4eaf911c4cdbacd83e5f",
       "version_major": 2,
       "version_minor": 0
      },
      "text/plain": [
       "  0%|          | 0/15 [00:00<?, ?it/s]"
      ]
     },
     "metadata": {},
     "output_type": "display_data"
    },
    {
     "data": {
      "application/vnd.jupyter.widget-view+json": {
       "model_id": "cf161babc5934a6f81fabba9bfe63d9d",
       "version_major": 2,
       "version_minor": 0
      },
      "text/plain": [
       "  0%|          | 0/15 [00:00<?, ?it/s]"
      ]
     },
     "metadata": {},
     "output_type": "display_data"
    },
    {
     "data": {
      "application/vnd.jupyter.widget-view+json": {
       "model_id": "fbf55fe8d01740cdb9c2395e303c5cdd",
       "version_major": 2,
       "version_minor": 0
      },
      "text/plain": [
       "  0%|          | 0/15 [00:00<?, ?it/s]"
      ]
     },
     "metadata": {},
     "output_type": "display_data"
    },
    {
     "data": {
      "application/vnd.jupyter.widget-view+json": {
       "model_id": "9fa3d701b13d4323bfec47ce9d508e3c",
       "version_major": 2,
       "version_minor": 0
      },
      "text/plain": [
       "  0%|          | 0/15 [00:00<?, ?it/s]"
      ]
     },
     "metadata": {},
     "output_type": "display_data"
    },
    {
     "data": {
      "application/vnd.jupyter.widget-view+json": {
       "model_id": "a5e75107aa824706a27f3e217e718370",
       "version_major": 2,
       "version_minor": 0
      },
      "text/plain": [
       "  0%|          | 0/15 [00:00<?, ?it/s]"
      ]
     },
     "metadata": {},
     "output_type": "display_data"
    },
    {
     "data": {
      "application/vnd.jupyter.widget-view+json": {
       "model_id": "252b3c95a392411fa504dcc78d55d6e9",
       "version_major": 2,
       "version_minor": 0
      },
      "text/plain": [
       "  0%|          | 0/15 [00:00<?, ?it/s]"
      ]
     },
     "metadata": {},
     "output_type": "display_data"
    },
    {
     "data": {
      "application/vnd.jupyter.widget-view+json": {
       "model_id": "e7c468e84e5a436685aa18dd46f51ba4",
       "version_major": 2,
       "version_minor": 0
      },
      "text/plain": [
       "  0%|          | 0/15 [00:00<?, ?it/s]"
      ]
     },
     "metadata": {},
     "output_type": "display_data"
    },
    {
     "data": {
      "application/vnd.jupyter.widget-view+json": {
       "model_id": "b6f9e2771461475fb5ef941913d81d9d",
       "version_major": 2,
       "version_minor": 0
      },
      "text/plain": [
       "  0%|          | 0/15 [00:00<?, ?it/s]"
      ]
     },
     "metadata": {},
     "output_type": "display_data"
    },
    {
     "data": {
      "application/vnd.jupyter.widget-view+json": {
       "model_id": "1fbfd15c2d5a4cc88867fabde27114cf",
       "version_major": 2,
       "version_minor": 0
      },
      "text/plain": [
       "  0%|          | 0/15 [00:00<?, ?it/s]"
      ]
     },
     "metadata": {},
     "output_type": "display_data"
    },
    {
     "data": {
      "application/vnd.jupyter.widget-view+json": {
       "model_id": "d9639bf2b6024d568e8dd4ceddd8d223",
       "version_major": 2,
       "version_minor": 0
      },
      "text/plain": [
       "  0%|          | 0/15 [00:00<?, ?it/s]"
      ]
     },
     "metadata": {},
     "output_type": "display_data"
    },
    {
     "name": "stderr",
     "output_type": "stream",
     "text": [
      "Running evaluation: 100%|█████████████████| 1024/1024 [00:00<00:00, 3953.63it/s]/home/kashif/.env/pytorch/lib/python3.8/site-packages/gluonts/evaluation/_base.py:305: FutureWarning: Timestamp.freq is deprecated and will be removed in a future version\n",
      "  date_before_forecast = forecast.index[0] - forecast.index[0].freq\n",
      "/home/kashif/.env/pytorch/lib/python3.8/site-packages/gluonts/evaluation/_base.py:305: FutureWarning: Timestamp.freq is deprecated and will be removed in a future version\n",
      "  date_before_forecast = forecast.index[0] - forecast.index[0].freq\n",
      "/home/kashif/.env/pytorch/lib/python3.8/site-packages/gluonts/evaluation/_base.py:305: FutureWarning: Timestamp.freq is deprecated and will be removed in a future version\n",
      "  date_before_forecast = forecast.index[0] - forecast.index[0].freq\n",
      "/home/kashif/.env/pytorch/lib/python3.8/site-packages/gluonts/evaluation/_base.py:305: FutureWarning: Timestamp.freq is deprecated and will be removed in a future version\n",
      "  date_before_forecast = forecast.index[0] - forecast.index[0].freq\n",
      "/home/kashif/.env/pytorch/lib/python3.8/site-packages/gluonts/evaluation/_base.py:305: FutureWarning: Timestamp.freq is deprecated and will be removed in a future version\n",
      "  date_before_forecast = forecast.index[0] - forecast.index[0].freq\n",
      "/home/kashif/.env/pytorch/lib/python3.8/site-packages/gluonts/evaluation/_base.py:305: FutureWarning: Timestamp.freq is deprecated and will be removed in a future version\n",
      "  date_before_forecast = forecast.index[0] - forecast.index[0].freq\n",
      "/home/kashif/.env/pytorch/lib/python3.8/site-packages/gluonts/evaluation/_base.py:305: FutureWarning: Timestamp.freq is deprecated and will be removed in a future version\n",
      "  date_before_forecast = forecast.index[0] - forecast.index[0].freq\n",
      "/home/kashif/.env/pytorch/lib/python3.8/site-packages/gluonts/evaluation/_base.py:305: FutureWarning: Timestamp.freq is deprecated and will be removed in a future version\n",
      "  date_before_forecast = forecast.index[0] - forecast.index[0].freq\n",
      "/home/kashif/.env/pytorch/lib/python3.8/site-packages/gluonts/evaluation/_base.py:305: FutureWarning: Timestamp.freq is deprecated and will be removed in a future version\n",
      "  date_before_forecast = forecast.index[0] - forecast.index[0].freq\n",
      "/home/kashif/.env/pytorch/lib/python3.8/site-packages/gluonts/evaluation/_base.py:305: FutureWarning: Timestamp.freq is deprecated and will be removed in a future version\n",
      "  date_before_forecast = forecast.index[0] - forecast.index[0].freq\n",
      "/home/kashif/.env/pytorch/lib/python3.8/site-packages/gluonts/evaluation/_base.py:305: FutureWarning: Timestamp.freq is deprecated and will be removed in a future version\n",
      "  date_before_forecast = forecast.index[0] - forecast.index[0].freq\n",
      "/home/kashif/.env/pytorch/lib/python3.8/site-packages/gluonts/evaluation/_base.py:305: FutureWarning: Timestamp.freq is deprecated and will be removed in a future version\n",
      "  date_before_forecast = forecast.index[0] - forecast.index[0].freq\n",
      "/home/kashif/.env/pytorch/lib/python3.8/site-packages/gluonts/evaluation/_base.py:305: FutureWarning: Timestamp.freq is deprecated and will be removed in a future version\n",
      "  date_before_forecast = forecast.index[0] - forecast.index[0].freq\n",
      "/home/kashif/.env/pytorch/lib/python3.8/site-packages/gluonts/evaluation/_base.py:305: FutureWarning: Timestamp.freq is deprecated and will be removed in a future version\n",
      "  date_before_forecast = forecast.index[0] - forecast.index[0].freq\n",
      "/home/kashif/.env/pytorch/lib/python3.8/site-packages/gluonts/evaluation/_base.py:305: FutureWarning: Timestamp.freq is deprecated and will be removed in a future version\n",
      "  date_before_forecast = forecast.index[0] - forecast.index[0].freq\n",
      "/home/kashif/.env/pytorch/lib/python3.8/site-packages/gluonts/evaluation/_base.py:305: FutureWarning: Timestamp.freq is deprecated and will be removed in a future version\n",
      "  date_before_forecast = forecast.index[0] - forecast.index[0].freq\n",
      "\n"
     ]
    },
    {
     "data": {
      "text/plain": [
       "0.04735463152435255"
      ]
     },
     "execution_count": 10,
     "metadata": {},
     "output_type": "execute_result"
    }
   ],
   "source": [
    "train_nbeats(nbeats_estimator, elastic_dataset)"
   ]
  },
  {
   "cell_type": "code",
   "execution_count": null,
   "id": "2880d7b0",
   "metadata": {},
   "outputs": [],
   "source": []
  }
 ],
 "metadata": {
  "kernelspec": {
   "display_name": "Python 3 (ipykernel)",
   "language": "python",
   "name": "python3"
  },
  "language_info": {
   "codemirror_mode": {
    "name": "ipython",
    "version": 3
   },
   "file_extension": ".py",
   "mimetype": "text/x-python",
   "name": "python",
   "nbconvert_exporter": "python",
   "pygments_lexer": "ipython3",
   "version": "3.8.10"
  }
 },
 "nbformat": 4,
 "nbformat_minor": 5
}
