{
 "cells": [
  {
   "cell_type": "code",
   "execution_count": 1,
   "id": "db11790d",
   "metadata": {},
   "outputs": [
    {
     "name": "stderr",
     "output_type": "stream",
     "text": [
      "/Users/agouttes/.pyenv/versions/3.6.10/envs/pytorch-ts/lib/python3.6/site-packages/gluonts/json.py:46: UserWarning: Using `json`-module for json-handling. Consider installing one of `orjson`, `ujson` to speed up serialization and deserialization.\n",
      "  \"Using `json`-module for json-handling. \"\n"
     ]
    }
   ],
   "source": [
    "import numpy as np\n",
    "import json\n",
    "import matplotlib.pyplot as plt\n",
    "\n",
    "from gluonts.dataset.artificial import recipe as rcp\n",
    "\n",
    "from gluonts.dataset.artificial import RecipeDataset\n",
    "from gluonts.dataset.common import ListDataset, MetaData\n",
    "\n",
    "from gluonts.evaluation import make_evaluation_predictions, Evaluator\n",
    "\n",
    "from pts.model.n_beats import NBEATSEstimator\n",
    "from pts.model.n_beats.n_beats_X_estimator import NbeatsXEstimator\n",
    "\n",
    "from pts import Trainer"
   ]
  },
  {
   "cell_type": "code",
   "execution_count": 2,
   "id": "7df1c4b8",
   "metadata": {},
   "outputs": [],
   "source": [
    "NUM_EPOCHS = 30\n",
    "NUM_BATCHES_PER_EPOCH = 16\n",
    "NUM_SAMPLES = 10\n",
    "BATCH_SIZE = 32 * 2\n",
    "LEARNING_RATE = 5e-3\n",
    "\n",
    "\n",
    "TIME_SERIE_LENGTH = 4 * 12 \n",
    "PREDICTION_LENGTH = 4 \n",
    "NUMBER_OF_TIME_SERIES = NUM_BATCHES_PER_EPOCH * BATCH_SIZE \n",
    "\n",
    "META_DATA = MetaData(freq=\"W\", prediction_length=PREDICTION_LENGTH)"
   ]
  },
  {
   "cell_type": "code",
   "execution_count": 3,
   "id": "8e329613",
   "metadata": {},
   "outputs": [
    {
     "data": {
      "image/png": "[encoded data removed]",
      "text/plain": [
       "<Figure size 432x288 with 1 Axes>"
      ]
     },
     "metadata": {
      "needs_background": "light"
     },
     "output_type": "display_data"
    },
    {
     "data": {
      "image/png": "[encoded data removed]",
      "text/plain": [
       "<Figure size 432x288 with 1 Axes>"
      ]
     },
     "metadata": {
      "needs_background": "light"
     },
     "output_type": "display_data"
    }
   ],
   "source": [
    "class SimpleDiscount(rcp.Lifted):\n",
    "    def __call__(self, x, length, *args, **kwargs):\n",
    "        return np.random.uniform(0, 0.7, size=length)  \n",
    "\n",
    "class SimpleTarget(rcp.Lifted):\n",
    "\n",
    "    def __call__(self, x, length, *args, **kwargs):\n",
    "        trend = np.arange(length)  \n",
    "        season = np.asarray([np.cos(2 * np.pi * i * 1/4) for i in range(length)])\n",
    "        return 0.2 * trend + .3 * season\n",
    "\n",
    "    \n",
    "class SimpleElasticTarget(rcp.Lifted):\n",
    "\n",
    "    def __call__(self, x, length, *args, **kwargs):\n",
    "        trend = np.arange(length)  \n",
    "        season = np.asarray([np.cos(2 * np.pi * i * 1/4) for i in range(length)])\n",
    "        return 0.2 * trend + .3 * season + 2. * x\n",
    "    \n",
    "discounts = SimpleDiscount()(x=None, length=TIME_SERIE_LENGTH)  \n",
    "    \n",
    "plt.figure()\n",
    "plt.plot(SimpleTarget()(x=None, length=TIME_SERIE_LENGTH))\n",
    "plt.show()\n",
    "\n",
    "plt.figure()\n",
    "plt.plot(SimpleElasticTarget()(x=discounts, length=TIME_SERIE_LENGTH))\n",
    "plt.show()\n"
   ]
  },
  {
   "cell_type": "code",
   "execution_count": 4,
   "id": "2610ec01",
   "metadata": {},
   "outputs": [],
   "source": [
    "list_for_dataset = []\n",
    "for _ in range(NUMBER_OF_TIME_SERIES):\n",
    "    discounts = SimpleDiscount()(x=None, length=TIME_SERIE_LENGTH)\n",
    "    sales = SimpleTarget()(x=None, length=TIME_SERIE_LENGTH)  \n",
    "    list_for_dataset.append({\n",
    "        \"feat_dynamic_real\": [discounts], \n",
    "        \"target\": sales, \n",
    "        \"start\": \"2019-01-07 00:00\"}\n",
    "    )\n",
    "\n",
    "simple_dataset = ListDataset(list_for_dataset, freq=META_DATA.freq)"
   ]
  },
  {
   "cell_type": "code",
   "execution_count": 5,
   "id": "dbc40a58",
   "metadata": {},
   "outputs": [],
   "source": [
    "list_for_dataset = []\n",
    "for _ in range(NUMBER_OF_TIME_SERIES):\n",
    "    discounts = SimpleDiscount()(x=None, length=TIME_SERIE_LENGTH)\n",
    "    sales = SimpleElasticTarget()(x=discounts, length=TIME_SERIE_LENGTH)\n",
    "    \n",
    "    list_for_dataset.append({\n",
    "        \"feat_dynamic_real\": [discounts], \n",
    "        \"target\": sales, \n",
    "        \"start\": \"2019-01-07 00:00\"}\n",
    "    )\n",
    "\n",
    "elastic_dataset = ListDataset(list_for_dataset, freq=META_DATA.freq)\n"
   ]
  },
  {
   "cell_type": "code",
   "execution_count": 6,
   "id": "30c95381",
   "metadata": {},
   "outputs": [],
   "source": [
    "def train_nbeats(estimator, dataset):\n",
    "    predictor = estimator.train(dataset)\n",
    "    forecast_it, ts_it = make_evaluation_predictions(\n",
    "        dataset=dataset,  # test dataset\n",
    "        predictor=predictor,  # predictor\n",
    "        num_samples=NUM_SAMPLES,  # number of sample paths we want for evaluation\n",
    "    )\n",
    "    forecasts = list(forecast_it)\n",
    "    tss = list(ts_it)\n",
    "    evaluator = Evaluator()\n",
    "    agg_metrics, item_metrics = evaluator(iter(tss), iter(forecasts), num_series=len(dataset))\n",
    "    return agg_metrics[\"NRMSE\"]\n"
   ]
  },
  {
   "cell_type": "code",
   "execution_count": 7,
   "id": "25c275fe",
   "metadata": {},
   "outputs": [],
   "source": [
    "nbeats_estimator = NBEATSEstimator(\n",
    "    freq=META_DATA.freq,\n",
    "    prediction_length=META_DATA.prediction_length,\n",
    "    context_length=META_DATA.prediction_length * 3,\n",
    "    trainer=Trainer(device=\"cpu\",\n",
    "                    epochs=NUM_EPOCHS,\n",
    "                    learning_rate=LEARNING_RATE,\n",
    "                    num_batches_per_epoch=NUM_BATCHES_PER_EPOCH,\n",
    "                    batch_size=BATCH_SIZE,\n",
    "                    ),\n",
    "    num_stacks=30,\n",
    "    num_blocks=[1],\n",
    "    num_block_layers=[4],\n",
    "    stack_types=[\"G\"],\n",
    "    widths=[512],\n",
    "    sharing=[False],\n",
    "    expansion_coefficient_lengths=[32]\n",
    ")"
   ]
  },
  {
   "cell_type": "code",
   "execution_count": 8,
   "id": "227fda71",
   "metadata": {},
   "outputs": [],
   "source": [
    "nbeats_X_estimator = NbeatsXEstimator(\n",
    "    freq=META_DATA.freq,\n",
    "    prediction_length=META_DATA.prediction_length,\n",
    "    context_length=META_DATA.prediction_length * 3,\n",
    "    trainer=Trainer(device=\"cpu\",\n",
    "                    epochs=NUM_EPOCHS,\n",
    "                    learning_rate=LEARNING_RATE,\n",
    "                    num_batches_per_epoch=NUM_BATCHES_PER_EPOCH,\n",
    "                    batch_size=BATCH_SIZE,\n",
    "                    ),\n",
    "    num_stacks=30,\n",
    "    num_blocks=[1],\n",
    "    num_block_layers=[4],\n",
    "    stack_types=[\"G\"],\n",
    "    widths=[512],\n",
    "    sharing=[False],\n",
    "    expansion_coefficient_lengths=[32]\n",
    ")"
   ]
  },
  {
   "cell_type": "markdown",
   "id": "bb125a0a",
   "metadata": {},
   "source": [
    "## Nbeats X"
   ]
  },
  {
   "cell_type": "code",
   "execution_count": 9,
   "id": "a5b1d03b",
   "metadata": {
    "scrolled": true
   },
   "outputs": [
    {
     "name": "stderr",
     "output_type": "stream",
     "text": [
      "63it [00:00, 83.17it/s]\n",
      "0it [00:08, ?it/s, avg_epoch_loss=6.68, epoch=0]\n",
      "63it [00:00, 80.60it/s]\n",
      "0it [00:08, ?it/s, avg_epoch_loss=3.24, epoch=1]\n",
      "63it [00:01, 50.87it/s]\n",
      "0it [00:07, ?it/s, avg_epoch_loss=2.92, epoch=2]\n",
      "63it [00:00, 67.28it/s]\n",
      "0it [00:08, ?it/s, avg_epoch_loss=3.04, epoch=3]\n",
      "63it [00:01, 51.84it/s]\n",
      "0it [00:09, ?it/s, avg_epoch_loss=2.69, epoch=4]\n",
      "63it [00:01, 60.49it/s]\n",
      "0it [00:08, ?it/s, avg_epoch_loss=3.88, epoch=5]\n",
      "63it [00:01, 61.96it/s]\n",
      "0it [00:09, ?it/s, avg_epoch_loss=4.19, epoch=6]\n",
      "63it [00:00, 74.55it/s]\n",
      "0it [00:08, ?it/s, avg_epoch_loss=161, epoch=7]\n",
      "63it [00:00, 71.07it/s]\n",
      "0it [00:10, ?it/s, avg_epoch_loss=4.62e+4, epoch=8]\n",
      "63it [00:01, 60.21it/s]\n",
      "0it [00:09, ?it/s, avg_epoch_loss=6.2e+4, epoch=9]\n",
      "63it [00:00, 64.81it/s]\n",
      "0it [00:09, ?it/s, avg_epoch_loss=1.01e+4, epoch=10]\n",
      "63it [00:01, 58.40it/s]\n",
      "0it [00:09, ?it/s, avg_epoch_loss=331, epoch=11]\n",
      "63it [00:00, 91.13it/s] \n",
      "0it [00:07, ?it/s, avg_epoch_loss=8.55, epoch=12]\n",
      "63it [00:00, 67.45it/s]\n",
      "0it [00:09, ?it/s, avg_epoch_loss=3.7, epoch=13]\n",
      "63it [00:01, 54.38it/s]\n",
      "0it [00:08, ?it/s, avg_epoch_loss=3.03, epoch=14]\n",
      "63it [00:01, 43.13it/s]\n",
      "0it [00:07, ?it/s, avg_epoch_loss=2.84, epoch=15]\n",
      "63it [00:01, 54.97it/s]\n",
      "0it [00:09, ?it/s, avg_epoch_loss=2.76, epoch=16]\n",
      "63it [00:01, 59.65it/s]\n",
      "0it [00:08, ?it/s, avg_epoch_loss=2.66, epoch=17]\n",
      "63it [00:01, 52.36it/s]\n",
      "0it [00:08, ?it/s, avg_epoch_loss=2.33, epoch=18]\n",
      "63it [00:01, 45.27it/s]\n",
      "0it [00:12, ?it/s, avg_epoch_loss=2.16, epoch=19]\n",
      "63it [00:02, 22.12it/s]\n",
      "0it [00:08, ?it/s, avg_epoch_loss=1.8, epoch=20]\n",
      "63it [00:03, 20.84it/s]\n",
      "0it [00:13, ?it/s, avg_epoch_loss=1.54, epoch=21]\n",
      "63it [00:02, 26.45it/s]\n",
      "0it [00:11, ?it/s, avg_epoch_loss=1.28, epoch=22]\n",
      "63it [00:00, 63.54it/s]\n",
      "0it [00:10, ?it/s, avg_epoch_loss=1.18, epoch=23]\n",
      "63it [00:01, 46.38it/s]\n",
      "0it [00:08, ?it/s, avg_epoch_loss=1.07, epoch=24]\n",
      "63it [00:00, 79.65it/s]\n",
      "0it [00:10, ?it/s, avg_epoch_loss=0.949, epoch=25]\n",
      "63it [00:00, 73.06it/s]\n",
      "0it [00:08, ?it/s, avg_epoch_loss=0.906, epoch=26]\n",
      "63it [00:00, 73.80it/s]\n",
      "0it [00:09, ?it/s, avg_epoch_loss=0.909, epoch=27]\n",
      "63it [00:00, 65.18it/s]\n",
      "0it [00:07, ?it/s, avg_epoch_loss=0.879, epoch=28]\n",
      "63it [00:00, 81.70it/s]\n",
      "0it [00:07, ?it/s, avg_epoch_loss=0.827, epoch=29]\n",
      "Running evaluation: 100%|██████████| 1024/1024 [00:00<00:00, 15938.57it/s]\n"
     ]
    },
    {
     "data": {
      "text/plain": [
       "0.01904966098286813"
      ]
     },
     "execution_count": 9,
     "metadata": {},
     "output_type": "execute_result"
    }
   ],
   "source": [
    "train_nbeats(nbeats_X_estimator, elastic_dataset)"
   ]
  },
  {
   "cell_type": "markdown",
   "id": "7293b505",
   "metadata": {},
   "source": [
    "## Nbeats "
   ]
  },
  {
   "cell_type": "code",
   "execution_count": 10,
   "id": "facd00f2",
   "metadata": {
    "scrolled": true
   },
   "outputs": [
    {
     "name": "stderr",
     "output_type": "stream",
     "text": [
      "63it [00:00, 116.24it/s]\n",
      "0it [00:07, ?it/s, avg_epoch_loss=6.42, epoch=0]\n",
      "63it [00:00, 114.98it/s]\n",
      "0it [00:06, ?it/s, avg_epoch_loss=3.38, epoch=1]\n",
      "63it [00:00, 103.25it/s]\n",
      "0it [00:06, ?it/s, avg_epoch_loss=3.27, epoch=2]\n",
      "63it [00:00, 100.66it/s]\n",
      "0it [00:06, ?it/s, avg_epoch_loss=3.28, epoch=3]\n",
      "63it [00:00, 88.71it/s]\n",
      "0it [00:08, ?it/s, avg_epoch_loss=3.41, epoch=4]\n",
      "63it [00:00, 78.12it/s]\n",
      "0it [00:08, ?it/s, avg_epoch_loss=3.14, epoch=5]\n",
      "63it [00:01, 41.88it/s]\n",
      "0it [00:08, ?it/s, avg_epoch_loss=4.08, epoch=6]\n",
      "63it [00:01, 55.47it/s]\n",
      "0it [00:10, ?it/s, avg_epoch_loss=4.8, epoch=7]\n",
      "63it [00:00, 118.75it/s]\n",
      "0it [00:06, ?it/s, avg_epoch_loss=1.17e+4, epoch=8]\n",
      "63it [00:00, 110.62it/s]\n",
      "0it [00:07, ?it/s, avg_epoch_loss=4.55e+4, epoch=9]\n",
      "63it [00:00, 93.55it/s]\n",
      "0it [00:07, ?it/s, avg_epoch_loss=9.69e+3, epoch=10]\n",
      "63it [00:00, 78.40it/s]\n",
      "0it [00:11, ?it/s, avg_epoch_loss=346, epoch=11]\n",
      "63it [00:00, 79.65it/s]\n",
      "0it [00:08, ?it/s, avg_epoch_loss=96.3, epoch=12]\n",
      "63it [00:00, 88.89it/s] \n",
      "0it [00:07, ?it/s, avg_epoch_loss=2e+3, epoch=13]\n",
      "63it [00:00, 121.83it/s]\n",
      "0it [00:08, ?it/s, avg_epoch_loss=7.44, epoch=14]\n",
      "63it [00:00, 99.89it/s] \n",
      "0it [00:08, ?it/s, avg_epoch_loss=3.74, epoch=15]\n",
      "63it [00:00, 80.30it/s] \n",
      "0it [00:08, ?it/s, avg_epoch_loss=3.42, epoch=16]\n",
      "63it [00:01, 43.55it/s]\n",
      "0it [00:09, ?it/s, avg_epoch_loss=3.04, epoch=17]\n",
      "63it [00:01, 54.24it/s]\n",
      "0it [00:11, ?it/s, avg_epoch_loss=3.07, epoch=18]\n",
      "63it [00:01, 58.79it/s]\n",
      "0it [00:11, ?it/s, avg_epoch_loss=3.02, epoch=19]\n",
      "63it [00:01, 53.58it/s]\n",
      "0it [00:11, ?it/s, avg_epoch_loss=2.92, epoch=20]\n",
      "63it [00:00, 67.30it/s]\n",
      "0it [00:10, ?it/s, avg_epoch_loss=2.92, epoch=21]\n",
      "63it [00:00, 95.22it/s] \n",
      "0it [00:07, ?it/s, avg_epoch_loss=2.81, epoch=22]\n",
      "63it [00:00, 123.07it/s]\n",
      "0it [00:06, ?it/s, avg_epoch_loss=2.92, epoch=23]\n",
      "63it [00:00, 121.68it/s]\n",
      "0it [00:07, ?it/s, avg_epoch_loss=2.94, epoch=24]\n",
      "63it [00:00, 137.76it/s]\n",
      "0it [00:07, ?it/s, avg_epoch_loss=2.8, epoch=25]\n",
      "63it [00:00, 101.12it/s]\n",
      "0it [00:08, ?it/s, avg_epoch_loss=2.87, epoch=26]\n",
      "63it [00:00, 106.53it/s]\n",
      "0it [00:08, ?it/s, avg_epoch_loss=2.88, epoch=27]\n",
      "63it [00:00, 101.97it/s]\n",
      "0it [00:08, ?it/s, avg_epoch_loss=2.77, epoch=28]\n",
      "63it [00:00, 107.41it/s]\n",
      "0it [00:10, ?it/s, avg_epoch_loss=2.73, epoch=29]\n",
      "Running evaluation: 100%|██████████| 1024/1024 [00:00<00:00, 21545.72it/s]\n"
     ]
    },
    {
     "data": {
      "text/plain": [
       "0.04886930590617455"
      ]
     },
     "execution_count": 10,
     "metadata": {},
     "output_type": "execute_result"
    }
   ],
   "source": [
    "train_nbeats(nbeats_estimator, elastic_dataset)"
   ]
  },
  {
   "cell_type": "code",
   "execution_count": null,
   "id": "2880d7b0",
   "metadata": {},
   "outputs": [],
   "source": []
  }
 ],
 "metadata": {
  "kernelspec": {
   "display_name": "pytorch-ts",
   "language": "python",
   "name": "pytorch-ts"
  },
  "language_info": {
   "codemirror_mode": {
    "name": "ipython",
    "version": 3
   },
   "file_extension": ".py",
   "mimetype": "text/x-python",
   "name": "python",
   "nbconvert_exporter": "python",
   "pygments_lexer": "ipython3",
   "version": "3.6.10"
  }
 },
 "nbformat": 4,
 "nbformat_minor": 5
}
