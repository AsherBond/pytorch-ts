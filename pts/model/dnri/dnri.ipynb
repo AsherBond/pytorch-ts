{
 "cells": [
  {
   "cell_type": "code",
   "execution_count": 16,
   "id": "ae9ac66b",
   "metadata": {},
   "outputs": [],
   "source": [
    "%matplotlib inline\n",
    "from matplotlib import pyplot as plt\n",
    "import matplotlib.dates as mdates\n",
    "\n",
    "import numpy as np\n",
    "from itertools import islice"
   ]
  },
  {
   "cell_type": "code",
   "execution_count": 13,
   "id": "140b480b",
   "metadata": {},
   "outputs": [],
   "source": [
    "from gluonts.evaluation import make_evaluation_predictions, Evaluator, MultivariateEvaluator\n",
    "from gluonts.dataset.repository.datasets import get_dataset\n",
    "from gluonts.dataset.multivariate_grouper import MultivariateGrouper"
   ]
  },
  {
   "cell_type": "code",
   "execution_count": 3,
   "id": "cf001f8f",
   "metadata": {},
   "outputs": [
    {
     "name": "stderr",
     "output_type": "stream",
     "text": [
      "/home/kashif/.env/pytorch/lib/python3.8/site-packages/apex/pyprof/__init__.py:5: FutureWarning: pyprof will be removed by the end of June, 2022\n",
      "  warnings.warn(\"pyprof will be removed by the end of June, 2022\", FutureWarning)\n",
      "WARNING:root:Pytorch pre-release version 1.12.0a0+git31d03c2 - assuming intent to test it\n"
     ]
    }
   ],
   "source": [
    "from pts.model.dnri import DNRIEstimator\n",
    "from pts.modules import StudentTOutput"
   ]
  },
  {
   "cell_type": "code",
   "execution_count": 4,
   "id": "cc5938c8",
   "metadata": {},
   "outputs": [],
   "source": [
    "dataset = get_dataset(\"exchange_rate_nips\", regenerate=False)"
   ]
  },
  {
   "cell_type": "code",
   "execution_count": 5,
   "id": "16f5bb61",
   "metadata": {},
   "outputs": [
    {
     "data": {
      "text/plain": [
       "MetaData(freq='B', target=None, feat_static_cat=[CategoricalFeatureInfo(name='feat_static_cat', cardinality='8')], feat_static_real=[], feat_dynamic_real=[], feat_dynamic_cat=[], prediction_length=30)"
      ]
     },
     "execution_count": 5,
     "metadata": {},
     "output_type": "execute_result"
    }
   ],
   "source": [
    "dataset.metadata"
   ]
  },
  {
   "cell_type": "code",
   "execution_count": 6,
   "id": "1fda17c9",
   "metadata": {},
   "outputs": [],
   "source": [
    "train_grouper = MultivariateGrouper(max_target_dim=int(dataset.metadata.feat_static_cat[0].cardinality))\n",
    "\n",
    "test_grouper = MultivariateGrouper(num_test_dates=int(len(dataset.test)/len(dataset.train)), \n",
    "                                   max_target_dim=int(dataset.metadata.feat_static_cat[0].cardinality))"
   ]
  },
  {
   "cell_type": "code",
   "execution_count": 7,
   "id": "ac42f815",
   "metadata": {},
   "outputs": [
    {
     "name": "stderr",
     "output_type": "stream",
     "text": [
      "/home/kashif/gluon-ts-PR/src/gluonts/dataset/common.py:326: FutureWarning: The 'freq' argument in Timestamp is deprecated and will be removed in a future version.\n",
      "  timestamp = pd.Timestamp(timestamp_input, freq=freq)\n",
      "/home/kashif/gluon-ts-PR/src/gluonts/dataset/common.py:329: FutureWarning: Timestamp.freq is deprecated and will be removed in a future version.\n",
      "  if isinstance(timestamp.freq, Tick):\n",
      "/home/kashif/gluon-ts-PR/src/gluonts/dataset/common.py:340: FutureWarning: Timestamp.freq is deprecated and will be removed in a future version.\n",
      "  return timestamp.freq.rollforward(timestamp)\n",
      "/home/kashif/gluon-ts-PR/src/gluonts/dataset/multivariate_grouper.py:105: FutureWarning: Timestamp.freq is deprecated and will be removed in a future version.\n",
      "  timestamp + (len(data[FieldName.TARGET]) - 1) * timestamp.freq,\n",
      "/home/kashif/gluon-ts-PR/src/gluonts/dataset/multivariate_grouper.py:107: FutureWarning: Timestamp.freq is deprecated and will be removed in a future version.\n",
      "  self.frequency = timestamp.freq\n",
      "/home/kashif/gluon-ts-PR/src/gluonts/dataset/multivariate_grouper.py:216: FutureWarning: Timestamp.freq is deprecated and will be removed in a future version.\n",
      "  freq=data[FieldName.START].freq,\n",
      "/home/kashif/gluon-ts-PR/src/gluonts/dataset/multivariate_grouper.py:165: FutureWarning: Timestamp.freq is deprecated and will be removed in a future version.\n",
      "  freq=data[FieldName.START].freq,\n",
      "/home/kashif/gluon-ts-PR/src/gluonts/dataset/multivariate_grouper.py:176: FutureWarning: Timestamp.freq is deprecated and will be removed in a future version.\n",
      "  freq=data[FieldName.START].freq,\n",
      "/home/kashif/gluon-ts-PR/src/gluonts/dataset/multivariate_grouper.py:183: VisibleDeprecationWarning: Creating an ndarray from ragged nested sequences (which is a list-or-tuple of lists-or-tuples-or ndarrays with different lengths or shapes) is deprecated. If you meant to do this, you must specify 'dtype=object' when creating the ndarray.\n",
      "  return {FieldName.TARGET: np.array([funcs(data) for data in dataset])}\n"
     ]
    }
   ],
   "source": [
    "dataset_train = train_grouper(dataset.train)\n",
    "dataset_test = test_grouper(dataset.test)"
   ]
  },
  {
   "cell_type": "code",
   "execution_count": 8,
   "id": "79a59ecc",
   "metadata": {},
   "outputs": [],
   "source": [
    "estimator = DNRIEstimator(\n",
    "    freq=dataset.metadata.freq,\n",
    "    context_length=dataset.metadata.prediction_length,\n",
    "    prediction_length=dataset.metadata.prediction_length,\n",
    "    target_dim=int(dataset.metadata.feat_static_cat[0].cardinality),\n",
    "    distr_output=StudentTOutput(int(dataset.metadata.feat_static_cat[0].cardinality)),\n",
    "    mlp_hidden_size=16,\n",
    "    decoder_hidden=16,\n",
    "    rnn_hidden_size=16,\n",
    "    \n",
    "    batch_size=64,\n",
    "    num_batches_per_epoch=100,\n",
    "    trainer_kwargs=dict(max_epochs=1,  accelerator='gpu', gpus=1),\n",
    ")   "
   ]
  },
  {
   "cell_type": "code",
   "execution_count": 9,
   "id": "9d52339b",
   "metadata": {},
   "outputs": [
    {
     "name": "stderr",
     "output_type": "stream",
     "text": [
      "/home/kashif/.env/pytorch/lib/python3.8/site-packages/pytorch_lightning/utilities/parsing.py:261: UserWarning: Attribute 'model' is an instance of `nn.Module` and is already saved during checkpointing. It is recommended to ignore them using `self.save_hyperparameters(ignore=['model'])`.\n",
      "  rank_zero_warn(\n",
      "/home/kashif/gluon-ts-PR/src/gluonts/transform/feature.py:365: FutureWarning: Timestamp.freq is deprecated and will be removed in a future version.\n",
      "  self._freq_base = start.freq.base\n",
      "/home/kashif/gluon-ts-PR/src/gluonts/transform/feature.py:365: FutureWarning: Timestamp.freq is deprecated and will be removed in a future version.\n",
      "  self._freq_base = start.freq.base\n",
      "GPU available: True, used: True\n",
      "/home/kashif/gluon-ts-PR/src/gluonts/transform/feature.py:365: FutureWarning: Timestamp.freq is deprecated and will be removed in a future version.\n",
      "  self._freq_base = start.freq.base\n",
      "TPU available: False, using: 0 TPU cores\n",
      "/home/kashif/gluon-ts-PR/src/gluonts/transform/split.py:36: FutureWarning: Timestamp.freq is deprecated and will be removed in a future version.\n",
      "  return _shift_timestamp_helper(ts, ts.freq, offset)\n",
      "IPU available: False, using: 0 IPUs\n",
      "/home/kashif/gluon-ts-PR/src/gluonts/transform/split.py:36: FutureWarning: Timestamp.freq is deprecated and will be removed in a future version.\n",
      "  return _shift_timestamp_helper(ts, ts.freq, offset)\n",
      "HPU available: False, using: 0 HPUs\n",
      "/home/kashif/gluon-ts-PR/src/gluonts/transform/split.py:36: FutureWarning: Timestamp.freq is deprecated and will be removed in a future version.\n",
      "  return _shift_timestamp_helper(ts, ts.freq, offset)\n",
      "/home/kashif/gluon-ts-PR/src/gluonts/transform/feature.py:365: FutureWarning: Timestamp.freq is deprecated and will be removed in a future version.\n",
      "  self._freq_base = start.freq.base\n",
      "/home/kashif/gluon-ts-PR/src/gluonts/transform/split.py:36: FutureWarning: Timestamp.freq is deprecated and will be removed in a future version.\n",
      "  return _shift_timestamp_helper(ts, ts.freq, offset)\n",
      "/home/kashif/gluon-ts-PR/src/gluonts/transform/feature.py:406: FutureWarning: Timestamp.freq is deprecated and will be removed in a future version.\n",
      "  ..., i0 : i0 + length * start.freq.n : start.freq.n\n",
      "/home/kashif/gluon-ts-PR/src/gluonts/transform/feature.py:406: FutureWarning: Timestamp.freq is deprecated and will be removed in a future version.\n",
      "  ..., i0 : i0 + length * start.freq.n : start.freq.n\n",
      "/home/kashif/gluon-ts-PR/src/gluonts/transform/feature.py:360: FutureWarning: Timestamp.freq is deprecated and will be removed in a future version.\n",
      "  assert self._freq_base is None or self._freq_base == start.freq.base, (\n",
      "/home/kashif/gluon-ts-PR/src/gluonts/transform/feature.py:360: FutureWarning: Timestamp.freq is deprecated and will be removed in a future version.\n",
      "  assert self._freq_base is None or self._freq_base == start.freq.base, (\n",
      "/home/kashif/gluon-ts-PR/src/gluonts/transform/feature.py:406: FutureWarning: Timestamp.freq is deprecated and will be removed in a future version.\n",
      "  ..., i0 : i0 + length * start.freq.n : start.freq.n\n",
      "/home/kashif/gluon-ts-PR/src/gluonts/transform/feature.py:360: FutureWarning: Timestamp.freq is deprecated and will be removed in a future version.\n",
      "  assert self._freq_base is None or self._freq_base == start.freq.base, (\n",
      "/home/kashif/gluon-ts-PR/src/gluonts/transform/feature.py:406: FutureWarning: Timestamp.freq is deprecated and will be removed in a future version.\n",
      "  ..., i0 : i0 + length * start.freq.n : start.freq.n\n",
      "/home/kashif/gluon-ts-PR/src/gluonts/transform/feature.py:360: FutureWarning: Timestamp.freq is deprecated and will be removed in a future version.\n",
      "  assert self._freq_base is None or self._freq_base == start.freq.base, (\n",
      "/home/kashif/.env/pytorch/lib/python3.8/site-packages/pytorch_lightning/trainer/configuration_validator.py:133: UserWarning: You defined a `validation_step` but have no `val_dataloader`. Skipping val loop.\n",
      "  rank_zero_warn(\"You defined a `validation_step` but have no `val_dataloader`. Skipping val loop.\")\n",
      "LOCAL_RANK: 0 - CUDA_VISIBLE_DEVICES: [0]\n",
      "\n",
      "  | Name  | Type      | Params\n",
      "------------------------------------\n",
      "0 | model | DNRIModel | 14.5 K\n",
      "------------------------------------\n",
      "14.5 K    Trainable params\n",
      "0         Non-trainable params\n",
      "14.5 K    Total params\n",
      "0.058     Total estimated model params size (MB)\n"
     ]
    },
    {
     "data": {
      "application/vnd.jupyter.widget-view+json": {
       "model_id": "dcfea3339f5e49e5afa92c724b0ae508",
       "version_major": 2,
       "version_minor": 0
      },
      "text/plain": [
       "Training: 0it [00:00, ?it/s]"
      ]
     },
     "metadata": {},
     "output_type": "display_data"
    },
    {
     "name": "stderr",
     "output_type": "stream",
     "text": [
      "Epoch 0, global step 100: 'train_loss' reached -13.27983 (best -13.27983), saving model to '/home/kashif/pytorch-ts/pts/model/dnri/lightning_logs/version_36/checkpoints/epoch=0-step=100.ckpt' as top 1\n"
     ]
    }
   ],
   "source": [
    "predictor = estimator.train(\n",
    "    training_data=dataset_train,\n",
    "    num_workers=4,\n",
    "    shuffle_buffer_length=1024\n",
    ")"
   ]
  },
  {
   "cell_type": "code",
   "execution_count": 10,
   "id": "bae68dfd",
   "metadata": {},
   "outputs": [],
   "source": [
    "forecast_it, ts_it = make_evaluation_predictions(dataset=dataset_test,\n",
    "                                                 predictor=predictor,\n",
    "                                                 num_samples=100)"
   ]
  },
  {
   "cell_type": "code",
   "execution_count": 11,
   "id": "3f5fbd36",
   "metadata": {},
   "outputs": [
    {
     "name": "stderr",
     "output_type": "stream",
     "text": [
      "/home/kashif/gluon-ts-PR/src/gluonts/transform/feature.py:365: FutureWarning: Timestamp.freq is deprecated and will be removed in a future version.\n",
      "  self._freq_base = start.freq.base\n",
      "/home/kashif/gluon-ts-PR/src/gluonts/transform/split.py:36: FutureWarning: Timestamp.freq is deprecated and will be removed in a future version.\n",
      "  return _shift_timestamp_helper(ts, ts.freq, offset)\n",
      "/home/kashif/gluon-ts-PR/src/gluonts/transform/feature.py:406: FutureWarning: Timestamp.freq is deprecated and will be removed in a future version.\n",
      "  ..., i0 : i0 + length * start.freq.n : start.freq.n\n",
      "/home/kashif/gluon-ts-PR/src/gluonts/transform/feature.py:360: FutureWarning: Timestamp.freq is deprecated and will be removed in a future version.\n",
      "  assert self._freq_base is None or self._freq_base == start.freq.base, (\n"
     ]
    }
   ],
   "source": [
    "forecasts = list(forecast_it)\n",
    "tss = list(ts_it)"
   ]
  },
  {
   "cell_type": "code",
   "execution_count": 17,
   "id": "e0f1d62a",
   "metadata": {},
   "outputs": [],
   "source": [
    "evaluator = MultivariateEvaluator(quantiles=(np.arange(20)/20.0)[1:],\n",
    "                                  target_agg_funcs={'sum': np.sum})"
   ]
  },
  {
   "cell_type": "code",
   "execution_count": 19,
   "id": "5ddfdcbd",
   "metadata": {},
   "outputs": [
    {
     "name": "stderr",
     "output_type": "stream",
     "text": [
      "Running evaluation: 0it [00:00, ?it/s]/home/kashif/gluon-ts-PR/src/gluonts/evaluation/_base.py:313: FutureWarning: Timestamp.freq is deprecated and will be removed in a future version.\n",
      "  date_before_forecast = forecast.index[0] - forecast.index[0].freq\n",
      "Running evaluation: 5it [00:00, 85.54it/s]\n",
      "Running evaluation: 0it [00:00, ?it/s]/home/kashif/gluon-ts-PR/src/gluonts/evaluation/_base.py:313: FutureWarning: Timestamp.freq is deprecated and will be removed in a future version.\n",
      "  date_before_forecast = forecast.index[0] - forecast.index[0].freq\n",
      "Running evaluation: 5it [00:00, 104.80it/s]\n",
      "Running evaluation: 0it [00:00, ?it/s]/home/kashif/gluon-ts-PR/src/gluonts/evaluation/_base.py:313: FutureWarning: Timestamp.freq is deprecated and will be removed in a future version.\n",
      "  date_before_forecast = forecast.index[0] - forecast.index[0].freq\n",
      "Running evaluation: 5it [00:00, 108.40it/s]\n",
      "Running evaluation: 0it [00:00, ?it/s]/home/kashif/gluon-ts-PR/src/gluonts/evaluation/_base.py:313: FutureWarning: Timestamp.freq is deprecated and will be removed in a future version.\n",
      "  date_before_forecast = forecast.index[0] - forecast.index[0].freq\n",
      "Running evaluation: 5it [00:00, 105.25it/s]\n",
      "Running evaluation: 0it [00:00, ?it/s]/home/kashif/gluon-ts-PR/src/gluonts/evaluation/_base.py:313: FutureWarning: Timestamp.freq is deprecated and will be removed in a future version.\n",
      "  date_before_forecast = forecast.index[0] - forecast.index[0].freq\n",
      "Running evaluation: 5it [00:00, 103.22it/s]\n",
      "Running evaluation: 0it [00:00, ?it/s]/home/kashif/gluon-ts-PR/src/gluonts/evaluation/_base.py:313: FutureWarning: Timestamp.freq is deprecated and will be removed in a future version.\n",
      "  date_before_forecast = forecast.index[0] - forecast.index[0].freq\n",
      "Running evaluation: 5it [00:00, 107.82it/s]\n",
      "Running evaluation: 0it [00:00, ?it/s]/home/kashif/gluon-ts-PR/src/gluonts/evaluation/_base.py:313: FutureWarning: Timestamp.freq is deprecated and will be removed in a future version.\n",
      "  date_before_forecast = forecast.index[0] - forecast.index[0].freq\n",
      "Running evaluation: 5it [00:00, 106.30it/s]\n",
      "Running evaluation: 0it [00:00, ?it/s]/home/kashif/gluon-ts-PR/src/gluonts/evaluation/_base.py:313: FutureWarning: Timestamp.freq is deprecated and will be removed in a future version.\n",
      "  date_before_forecast = forecast.index[0] - forecast.index[0].freq\n",
      "Running evaluation: 5it [00:00, 99.95it/s]\n",
      "Running evaluation: 0it [00:00, ?it/s]/home/kashif/gluon-ts-PR/src/gluonts/evaluation/_base.py:313: FutureWarning: Timestamp.freq is deprecated and will be removed in a future version.\n",
      "  date_before_forecast = forecast.index[0] - forecast.index[0].freq\n",
      "Running evaluation: 5it [00:00, 93.75it/s]\n"
     ]
    }
   ],
   "source": [
    "agg_metric, _ = evaluator(tss, forecasts, num_series=len(dataset_test))"
   ]
  },
  {
   "cell_type": "code",
   "execution_count": 20,
   "id": "74151dd5",
   "metadata": {},
   "outputs": [
    {
     "name": "stdout",
     "output_type": "stream",
     "text": [
      "CRPS: 0.01437470598626395\n",
      "ND: 0.01951843994598358\n",
      "NRMSE: 0.029499483748858964\n",
      "MSE: 0.0005756323611780564\n"
     ]
    }
   ],
   "source": [
    "print(\"CRPS: {}\".format(agg_metric['mean_wQuantileLoss']))\n",
    "print(\"ND: {}\".format(agg_metric['ND']))\n",
    "print(\"NRMSE: {}\".format(agg_metric['NRMSE']))\n",
    "print(\"MSE: {}\".format(agg_metric['MSE']))"
   ]
  },
  {
   "cell_type": "code",
   "execution_count": 21,
   "id": "3fbc053a",
   "metadata": {},
   "outputs": [
    {
     "name": "stdout",
     "output_type": "stream",
     "text": [
      "CRPS-Sum: 0.007591333333789749\n",
      "ND-Sum: 0.0102522900613221\n",
      "NRMSE-Sum: 0.012385791741813566\n",
      "MSE-Sum: 0.006494472573200861\n"
     ]
    }
   ],
   "source": [
    "print(\"CRPS-Sum: {}\".format(agg_metric['m_sum_mean_wQuantileLoss']))\n",
    "print(\"ND-Sum: {}\".format(agg_metric['m_sum_ND']))\n",
    "print(\"NRMSE-Sum: {}\".format(agg_metric['m_sum_NRMSE']))\n",
    "print(\"MSE-Sum: {}\".format(agg_metric['m_sum_MSE']))"
   ]
  },
  {
   "cell_type": "code",
   "execution_count": null,
   "id": "221b6f0c",
   "metadata": {},
   "outputs": [],
   "source": []
  }
 ],
 "metadata": {
  "kernelspec": {
   "display_name": "Python 3 (ipykernel)",
   "language": "python",
   "name": "python3"
  },
  "language_info": {
   "codemirror_mode": {
    "name": "ipython",
    "version": 3
   },
   "file_extension": ".py",
   "mimetype": "text/x-python",
   "name": "python",
   "nbconvert_exporter": "python",
   "pygments_lexer": "ipython3",
   "version": "3.8.10"
  }
 },
 "nbformat": 4,
 "nbformat_minor": 5
}
